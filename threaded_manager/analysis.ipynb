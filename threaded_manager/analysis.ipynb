{
 "cells": [
  {
   "cell_type": "markdown",
   "metadata": {},
   "source": [
    "# Monte Carlo\n",
    "\n",
    "Another attempt at a monte carlo analysis, this time with LV2-like numbers.\n",
    "\n",
    "This directory has an attempt at a managing JSBSim sessions that can spin up multiple threads to run simulations in parallel. It also kills the sim at apogee, whenever that may be. The upshot is that I can run many more simulations per minute than the naive approach.\n",
    "\n",
    "This setup:\n",
    "\n",
    "```python\n",
    "# starting values, real numbers for an N2501 motor\n",
    "isp     =   179    # s\n",
    "thrust  =  2510    # N\n",
    "impulse = 15280    # N*s\n",
    "CD      =     0.6\n",
    "\n",
    "# Randomize\n",
    "isp = random.gauss(isp, isp*0.03)                       # 3% spread\n",
    "thrust = random.gauss(thrust, thrust*0.10)              # 10% spread\n",
    "impulse = random.uniform(impulse - 200, impulse + 200)  # +/- 200 N*s\n",
    "cd_avg = random.gauss(0.6, 0.1)                         # ~16% spread\n",
    "```"
   ]
  },
  {
   "cell_type": "code",
   "execution_count": null,
   "metadata": {
    "collapsed": false
   },
   "outputs": [],
   "source": [
    "# Chart\n",
    "import csv\n",
    "import statistics\n",
    "import matplotlib.pyplot as plt\n",
    "%matplotlib inline\n",
    "\n",
    "FPS2M = 0.3048\n",
    "LBF2N = 4.44822\n",
    "LBS2KG = 0.453592\n",
    "\n",
    "n_times = 400\n",
    "\n",
    "max_alt = 0\n",
    "max_alt_time = 0\n",
    "max_alts = []\n",
    "sim_times = []\n",
    "sim_vel_ups = []\n",
    "sim_thrusts = []\n",
    "sim_alts = []\n",
    "for i in range(n_times):\n",
    "    # Read data from JSBSim\n",
    "    sim_time = []\n",
    "    sim_vel_up = []\n",
    "    sim_alt = []\n",
    "    sim_thrust = []\n",
    "    this_max_alt = 0\n",
    "    with open(\"data/sim-%05d.csv\" % i) as datafile:\n",
    "        reader = csv.reader(datafile, delimiter=',')\n",
    "        for row in reader:\n",
    "            # ignore first line\n",
    "            if row[0][0] == 'T':\n",
    "                continue\n",
    "            time      = float(row[0])           # s\n",
    "            alt       = float(row[1])           # m\n",
    "            vel_down  = float(row[2]) * FPS2M   # m/s\n",
    "            thrust    = float(row[3]) * LBF2N   # N\n",
    "            \n",
    "            sim_time.append(time)\n",
    "            sim_vel_up.append(-vel_down)\n",
    "            sim_alt.append(alt)\n",
    "            sim_thrust.append(thrust)\n",
    "\n",
    "            # max alt\n",
    "            if alt > max_alt:\n",
    "                max_alt = alt\n",
    "                max_alt_time = time\n",
    "            if alt > this_max_alt:\n",
    "                this_max_alt = alt\n",
    "    max_alts.append((i, this_max_alt))\n",
    "    sim_times.append(sim_time)\n",
    "    sim_vel_ups.append(sim_vel_up)\n",
    "    sim_alts.append(sim_alt)\n",
    "    sim_thrusts.append(sim_thrust)\n",
    "\n",
    "sorted_max = sorted(max_alts, key=lambda tup: tup[1])\n",
    "mlist = [tup[1] for tup in sorted_max]\n",
    "\n",
    "print(\"Highest sim went to:         %5.1f km\\n\" % (mlist[-1] / 1000.0))\n",
    "print(\"Lowest sim went to:          %5.1f km\\n\" % (mlist[0] / 1000.0))\n",
    "\n",
    "mean = statistics.mean(mlist)\n",
    "median = statistics.median(mlist)\n",
    "\n",
    "max_i = sorted_max[-1][0]\n",
    "min_i = sorted_max[0][0]\n",
    "median_i = min(sorted_max, key=lambda tup: abs(tup[1]-median))\n",
    "\n",
    "print(\"The mean sim altitude was:   %5.1f km\\n\" % (mean / 1000.0))\n",
    "print(\"The median sim altitude was: %5.1f km\\n\" % (median / 1000.0))"
   ]
  },
  {
   "cell_type": "code",
   "execution_count": null,
   "metadata": {
    "collapsed": false
   },
   "outputs": [],
   "source": [
    "fig, ax1 = plt.subplots(figsize=(18,7))\n",
    "plt.title(r\"Distribution of Maximum Altitudes\")\n",
    "plt.ylabel(r\"Number of Runs [#]\")\n",
    "plt.xlabel(r\"Maximum Altitude [m]\")\n",
    "\n",
    "n, bins, patches = plt.hist(mlist, 25, histtype='step', normed=1, alpha=0.4, linewidth=1, fill=True)\n",
    "\n",
    "#plt.ylim([0, 35])\n",
    "#plt.xlim()\n",
    "plt.show()"
   ]
  },
  {
   "cell_type": "code",
   "execution_count": null,
   "metadata": {
    "collapsed": false
   },
   "outputs": [],
   "source": [
    "fig, ax1 = plt.subplots(figsize=(18,7))\n",
    "plt.title(r\"Simulated Rocket Altitude: All Runs\")\n",
    "plt.ylabel(r\"Altitude MSL [meters]\")\n",
    "plt.xlabel(r\"Time [s]\")\n",
    "    \n",
    "for i in range(len(max_alts)):\n",
    "    plt.plot(sim_times[i], sim_alts[i], 'b-', lw=1.0, alpha=0.02)\n",
    "\n",
    "\n",
    "plt.plot(sim_times[max_i], sim_alts[max_i], 'r-', lw=1.2, alpha=0.6, label=\"Maximum Altitude Sim\")\n",
    "plt.plot(sim_times[min_i], sim_alts[min_i], 'g-', lw=1.2, alpha=0.6, label=\"Minimum Altitude Sim\")\n",
    "plt.plot(sim_times[median_i[0]], sim_alts[median_i[0]], 'k-', lw=1.4, alpha=0.9, label=\"Median Altitude Sim\")\n",
    "\n",
    "#plt.ylim([0, max_alt + 1000])\n",
    "#plt.xlim([0, max_alt_time])\n",
    "plt.legend(loc=2)\n",
    "plt.show()"
   ]
  },
  {
   "cell_type": "code",
   "execution_count": null,
   "metadata": {
    "collapsed": false
   },
   "outputs": [],
   "source": [
    "fig, ax1 = plt.subplots(figsize=(18,7))\n",
    "plt.title(r\"Simulated Rocket Altitude: All Runs\")\n",
    "plt.ylabel(r\"Altitude MSL [meters]\")\n",
    "plt.xlabel(r\"Time [s]\")\n",
    "    \n",
    "for i in range(len(max_alts)):\n",
    "    plt.plot(sim_times[i], sim_vel_ups[i], 'b-', lw=1.0, alpha=0.02)\n",
    "\n",
    "plt.plot(sim_times[max_i], sim_vel_ups[max_i], 'r-', lw=1.2, alpha=0.6, label=\"Maximum Altitude Sim\")\n",
    "plt.plot(sim_times[min_i], sim_vel_ups[min_i], 'g-', lw=1.2, alpha=0.6, label=\"Minimum Altitude Sim\")\n",
    "plt.plot(sim_times[median_i[0]], sim_vel_ups[median_i[0]], 'k-', lw=1.4, alpha=0.9, label=\"Median Altitude Sim\")\n",
    "\n",
    "plt.ylim([0, 600])\n",
    "#plt.xlim([0, max_alt_time])\n",
    "plt.legend(loc=1)\n",
    "plt.show()"
   ]
  },
  {
   "cell_type": "code",
   "execution_count": null,
   "metadata": {
    "collapsed": false
   },
   "outputs": [],
   "source": [
    "fig, ax1 = plt.subplots(figsize=(18,7))\n",
    "plt.title(r\"Simulated Rocket Altitude: All Runs\")\n",
    "plt.ylabel(r\"Altitude MSL [meters]\")\n",
    "plt.xlabel(r\"Time [s]\")\n",
    "    \n",
    "for i in range(len(max_alts)):\n",
    "    plt.plot(sim_times[i], sim_thrusts[i], 'b-', lw=1.0, alpha=0.02)\n",
    "\n",
    "plt.plot(sim_times[max_i], sim_thrusts[max_i], 'r-', lw=1.2, alpha=0.6, label=\"Maximum Altitude Sim\")\n",
    "plt.plot(sim_times[min_i], sim_thrusts[min_i], 'g-', lw=1.2, alpha=0.6, label=\"Minimum Altitude Sim\")\n",
    "plt.plot(sim_times[median_i[0]], sim_thrusts[median_i[0]], 'k-', lw=1.4, alpha=0.9, label=\"Median Altitude Sim\")\n",
    "\n",
    "#plt.ylim([0, 600])\n",
    "plt.xlim([-1, 15])\n",
    "plt.legend(loc=1)\n",
    "plt.show()"
   ]
  },
  {
   "cell_type": "markdown",
   "metadata": {},
   "source": []
  }
 ],
 "metadata": {
  "kernelspec": {
   "display_name": "Python 3",
   "language": "python",
   "name": "python3"
  },
  "language_info": {
   "codemirror_mode": {
    "name": "ipython",
    "version": 3
   },
   "file_extension": ".py",
   "mimetype": "text/x-python",
   "name": "python",
   "nbconvert_exporter": "python",
   "pygments_lexer": "ipython3",
   "version": "3.5.1+"
  }
 },
 "nbformat": 4,
 "nbformat_minor": 0
}
