{
 "cells": [
  {
   "cell_type": "markdown",
   "metadata": {},
   "source": [
    "# Build A Rocket And Launch It\n",
    "\n",
    "Proceduarlly build and sim a flight. This is my attempt to use the [open aerospace rocket documentation tool](https://open-aerospace.github.io/openrocketdoc/) to describe a rocket and generate JSBSim configuration to simulate its flight.\n",
    "\n",
    "## Design Engine\n",
    "\n",
    "Pick an engine design."
   ]
  },
  {
   "cell_type": "code",
   "execution_count": 1,
   "metadata": {
    "collapsed": true
   },
   "outputs": [],
   "source": [
    "thrust     = 1255.0  # N\n",
    "burn_time  =   12.0  # s\n",
    "isp        =  214.0  # s"
   ]
  },
  {
   "cell_type": "markdown",
   "metadata": {},
   "source": [
    "Build the engine:"
   ]
  },
  {
   "cell_type": "code",
   "execution_count": 2,
   "metadata": {
    "collapsed": false
   },
   "outputs": [
    {
     "name": "stdout",
     "output_type": "stream",
     "text": [
      "Our engine has 7.2 kg of propellent\n",
      "\n",
      "Generated JSBSim thrust curve:\n",
      "\n",
      "```\n",
      "<?xml version=\"1.0\" ?>\n",
      "<rocket_engine name=\"Engine\">\n",
      "  <isp>214.0</isp>\n",
      "  <builduptime>0.1</builduptime>\n",
      "  <thrust_table name=\"propulsion/thrust_prop_remain\" type=\"internal\">\n",
      "    <tableData>\n",
      " 0.000 282.135\n",
      " 5.274 282.135\n",
      " 10.547 282.135\n",
      "    </tableData>\n",
      "  </thrust_table>\n",
      "</rocket_engine>\n",
      " ```\n"
     ]
    }
   ],
   "source": [
    "from openrocketdoc import document\n",
    "from openrocketdoc import writers\n",
    "\n",
    "engine = document.Engine('Engine')\n",
    "\n",
    "engine.Isp = isp\n",
    "engine.thrust_avg = thrust\n",
    "engine.t_burn = burn_time\n",
    "\n",
    "# The Open Rocket Document can compute useful values based on what we defined above.\n",
    "print(\"Our engine has %0.1f kg of propellent\\n\" % engine.m_prop)\n",
    "print(\"Generated JSBSim thrust curve:\\n\\n```\")\n",
    "print(writers.JSBSimEngine.dump(engine), \"```\")"
   ]
  },
  {
   "cell_type": "markdown",
   "metadata": {},
   "source": [
    "## Build Rocket\n",
    "\n",
    "Now we know how much propellent, guess the density and come up with some parametric rocket design."
   ]
  },
  {
   "cell_type": "code",
   "execution_count": 3,
   "metadata": {
    "collapsed": false
   },
   "outputs": [
    {
     "name": "stdout",
     "output_type": "stream",
     "text": [
      "Generated JSBSim 'Aircraft':\n",
      "\n",
      "```\n",
      "<?xml version=\"1.0\" ?>\n",
      "<fdm_config name=\"Rocket\" release=\"ALPHA\" version=\"2.0\" xmlns:xsi=\"http://www.w3.org/2001/XMLSchema-instance\" xsi:noNamespaceSchemaLocation=\"http://jsbsim.sourceforge.net/JSBSim.xsd\">\n",
      "  <fileheader/>\n",
      "  <metrics>\n",
      "    <wingarea unit=\"M2\">0.0</wingarea>\n",
      "    <wingspan unit=\"M\">0.0</wingspan>\n",
      "    <chord unit=\"M\">0.0</chord>\n",
      "    <htailarea unit=\"M2\">0.0</htailarea>\n",
      "    <htailarm unit=\"M\">0.0</htailarm>\n",
      "    <vtailarea unit=\"M2\">0.0</vtailarea>\n",
      "    <vtailarm unit=\"M\">0.0</vtailarm>\n",
      "    <location name=\"AERORP\" unit=\"M\">\n",
      "      <x>0.0</x>\n",
      "      <y>0.0</y>\n",
      "      <z>0.0</z>\n",
      "    </location>\n",
      "  </metrics>\n",
      "  <mass_balance>\n",
      "    <pointmass name=\"Body\">\n",
      "      <form shape=\"tube\">\n",
      "        <radius unit=\"M\">0.0000</radius>\n",
      "        <length unit=\"M\">0.8052</length>\n",
      "      </form>\n",
      "      <weight unit=\"KG\">1.5000</weight>\n",
      "      <location unit=\"M\">\n",
      "        <x>0.4026</x>\n",
      "        <y>0.0</y>\n",
      "        <z>0.0</z>\n",
      "      </location>\n",
      "    </pointmass>\n",
      "  </mass_balance>\n",
      "  <propulsion/>\n",
      "  <aerodynamics/>\n",
      "  <ground_reactions/>\n",
      "  <system/>\n",
      "</fdm_config>\n",
      "\n",
      "```\n"
     ]
    }
   ],
   "source": [
    "from math import pi\n",
    "prop_density = 1750      # kg/m3  Roughtly HTPB composit solid density[1]\n",
    "LD           =   10      # Length to width ratio\n",
    "# [1] http://www.lr.tudelft.nl/en/organisation/departments/space-engineering/space-systems-engineering/expertise-areas/space-propulsion/design-of-elements/rocket-propellants/solids/\n",
    "\n",
    "# volume of propellent needed\n",
    "prop_volume = engine.m_prop/prop_density\n",
    "\n",
    "# Solve for the radius/length of the fuel grain (assume solid, end burning)\n",
    "engine.diamter = 2*(prop_volume/ (2*LD*pi))**(1/3.0)\n",
    "engine.length = engine.diamter * LD\n",
    "\n",
    "# Add a nose\n",
    "nosecone = document.Nosecone(\n",
    "    document.Noseshape.TANGENT_OGIVE,  # Shape\n",
    "    1.0, # shape_parameter\n",
    "    1.5, # mass\n",
    "    engine.diameter * 6, # length, 6:1 L/D\n",
    "    diameter=engine.diameter,\n",
    "    material_name=\"Aluminium\"\n",
    ")\n",
    "\n",
    "# Body section the size of the engine\n",
    "body = document.Bodytube(\n",
    "    \"Body\",  # Name\n",
    "    1.5,     # mass\n",
    "    engine.length, \n",
    "    diameter=engine.diameter,\n",
    "    material_name=\"Aluminium\"\n",
    ")\n",
    "\n",
    "# Rocket:\n",
    "rocket = document.Rocket(\"Rocket\")\n",
    "stage0 = document.Stage(\"Sustainer\")\n",
    "stage0.components = [nosecone, body]\n",
    "rocket.stages = [stage0]\n",
    "\n",
    "# Print:\n",
    "print(\"Generated JSBSim 'Aircraft':\\n\\n```\")\n",
    "print(writers.JSBSimAircraft.dump(rocket))\n",
    "print(\"```\")"
   ]
  },
  {
   "cell_type": "markdown",
   "metadata": {},
   "source": []
  }
 ],
 "metadata": {
  "kernelspec": {
   "display_name": "Python 3",
   "language": "python",
   "name": "python3"
  },
  "language_info": {
   "codemirror_mode": {
    "name": "ipython",
    "version": 3
   },
   "file_extension": ".py",
   "mimetype": "text/x-python",
   "name": "python",
   "nbconvert_exporter": "python",
   "pygments_lexer": "ipython3",
   "version": "3.5.1+"
  }
 },
 "nbformat": 4,
 "nbformat_minor": 0
}
