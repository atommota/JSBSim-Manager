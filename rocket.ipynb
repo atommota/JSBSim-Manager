{
 "cells": [
  {
   "cell_type": "markdown",
   "metadata": {},
   "source": [
    "# Build A Rocket And Launch It\n",
    "\n",
    "Proceduarlly build and sim a flight. This is my attempt to use the [open aerospace rocket documentation tool](https://open-aerospace.github.io/openrocketdoc/) to describe a rocket and generate JSBSim configuration to simulate its flight.\n",
    "\n",
    "## Design Engine\n",
    "\n",
    "Pick an engine design. Well define it based on a desired Isp, thrust, and burn time."
   ]
  },
  {
   "cell_type": "code",
   "execution_count": null,
   "metadata": {
    "collapsed": false
   },
   "outputs": [],
   "source": [
    "import locale\n",
    "from openrocketdoc import document\n",
    "from openrocketdoc import writers\n",
    "locale.setlocale(locale.LC_ALL, 'en_US.UTF-8')\n",
    "\n",
    "thrust     = 1255.0  # N\n",
    "burn_time  =   12.0  # s\n",
    "isp        =  214.0  # s\n",
    "\n",
    "# Create an engine document\n",
    "engine = document.Engine('Engine')\n",
    "\n",
    "# Set our design\n",
    "engine.Isp = isp\n",
    "engine.thrust_avg = thrust\n",
    "engine.t_burn = burn_time\n",
    "\n",
    "# Print setup\n",
    "print(\"Design parameters:\\n\")\n",
    "print(\"      Input     |   Number  | Units \")\n",
    "print(\" -------------- | --------: | :---- \")\n",
    "\n",
    "print(\" %14s |  %8.1f | %s\" % (\"Isp\", engine.Isp, \"s\"))\n",
    "print(\" %14s |  %s | %s\" % (\"Thrust\", locale.format(\"%8.1f\", engine.thrust_avg, grouping=True), \"N\"))\n",
    "print(\" %14s |  %8.1f | %s\" % (\"Burn Time\", engine.t_burn, \"s\"))\n"
   ]
  },
  {
   "cell_type": "code",
   "execution_count": null,
   "metadata": {
    "collapsed": false
   },
   "outputs": [],
   "source": [
    "# The Open Rocket Document can compute useful values based on what we defined above.\n",
    "print(\"\\nOur computed engine will need %0.1f kg of propellent.\" % engine.m_prop, )\n",
    "print(\"It has a total impulse of %s Ns. That would make it a '%s'(%0.0f%%) class motor.\" % (\n",
    "        locale.format(\"%d\", engine.I_total, grouping=True),\n",
    "        engine.nar_code,\n",
    "        engine.nar_percent\n",
    "     ))\n",
    "print(\"\\nGenerated JSBSim engine document:\\n\\n```\")\n",
    "print(writers.JSBSimEngine.dump(engine), \"```\")"
   ]
  },
  {
   "cell_type": "markdown",
   "metadata": {},
   "source": [
    "## Build Rocket\n",
    "\n",
    "Now we know how much propellent, guess the density and come up with some parametric rocket design."
   ]
  },
  {
   "cell_type": "code",
   "execution_count": null,
   "metadata": {
    "collapsed": false
   },
   "outputs": [],
   "source": [
    "from math import pi\n",
    "prop_density = 1750      # kg/m3  Roughtly HTPB composit solid density[1]\n",
    "LD           =   10      # Length to width ratio\n",
    "# [1] http://www.lr.tudelft.nl/en/organisation/departments/space-engineering/space-systems-engineering/expertise-areas/space-propulsion/design-of-elements/rocket-propellants/solids/\n",
    "\n",
    "# volume of propellent needed\n",
    "prop_volume = engine.m_prop/prop_density\n",
    "\n",
    "# Solve for the radius/length of the fuel grain (assume solid, end burning)\n",
    "engine.diameter = 2*(prop_volume/ (2*LD*pi))**(1/3.0)\n",
    "engine.length = engine.diameter * LD\n",
    "\n",
    "# Add a nose\n",
    "nose = document.Nosecone(\n",
    "    document.Noseshape.TANGENT_OGIVE,  # Shape\n",
    "    1.0, # shape_parameter\n",
    "    1.5, # mass\n",
    "    engine.diameter * 6, # length, 6:1 L/D\n",
    "    diameter=engine.diameter,\n",
    "    material_name=\"Aluminium\"\n",
    ")\n",
    "\n",
    "# Body section the size of the engine\n",
    "body = document.Bodytube(\n",
    "    \"Body\",  # Name\n",
    "    1.5,     # mass\n",
    "    engine.length,\n",
    "    diameter=engine.diameter,\n",
    "    material_name=\"Aluminium\"\n",
    ")\n",
    "\n",
    "# Rocket:\n",
    "rocket = document.Rocket(\"Rocket\")\n",
    "stage0 = document.Stage(\"Sustainer\")\n",
    "stage0.components = [nose, body]\n",
    "rocket.stages = [stage0]\n",
    "\n",
    "# Print:\n",
    "print(\"Rocket length: %0.1f meters, diameter: %0.2f mm\" % ((nose.length + body.length), (engine.diameter*1000.0)))\n",
    "print(\"Generated JSBSim 'Aircraft' document:\\n\\n```\")\n",
    "print(writers.JSBSimAircraft.dump(rocket))\n",
    "print(\"```\")"
   ]
  },
  {
   "cell_type": "markdown",
   "metadata": {},
   "source": []
  }
 ],
 "metadata": {
  "kernelspec": {
   "display_name": "Python 3",
   "language": "python",
   "name": "python3"
  },
  "language_info": {
   "codemirror_mode": {
    "name": "ipython",
    "version": 3
   },
   "file_extension": ".py",
   "mimetype": "text/x-python",
   "name": "python",
   "nbconvert_exporter": "python",
   "pygments_lexer": "ipython3",
   "version": "3.5.1+"
  }
 },
 "nbformat": 4,
 "nbformat_minor": 0
}
